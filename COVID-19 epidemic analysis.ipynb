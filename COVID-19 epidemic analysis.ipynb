{
 "cells": [
  {
   "cell_type": "code",
   "execution_count": null,
   "metadata": {},
   "outputs": [],
   "source": [
    "import numpy as np \n",
    "import matplotlib.pyplot as plt \n",
    "import matplotlib.colors as mcolors\n",
    "import pandas as pd \n",
    "import random\n",
    "import math\n",
    "import time\n",
    "from sklearn.linear_model import LinearRegression, BayesianRidge\n",
    "from sklearn.model_selection import RandomizedSearchCV, train_test_split\n",
    "from sklearn.preprocessing import PolynomialFeatures\n",
    "from sklearn.tree import DecisionTreeRegressor\n",
    "from sklearn.svm import SVR\n",
    "from sklearn.metrics import mean_squared_error, mean_absolute_error\n",
    "import datetime\n",
    "import operator\n",
    "import matplotlib\n",
    "plt.style.use('fivethirtyeight')\n",
    "font = {'family' : 'serif',\n",
    "        'size'   : 100}\n",
    "\n",
    "matplotlib.rc('font', **font)\n",
    "%matplotlib inline"
   ]
  },
  {
   "cell_type": "code",
   "execution_count": null,
   "metadata": {},
   "outputs": [],
   "source": [
    "matplotlib.__version__"
   ]
  },
  {
   "cell_type": "code",
   "execution_count": null,
   "metadata": {},
   "outputs": [],
   "source": [
    "confirmed_df = pd.read_csv('https://raw.githubusercontent.com/CSSEGISandData/COVID-19/master/csse_covid_19_data/csse_covid_19_time_series/time_series_covid19_confirmed_global.csv')\n",
    "deaths_df = pd.read_csv('https://raw.githubusercontent.com/CSSEGISandData/COVID-19/master/csse_covid_19_data/csse_covid_19_time_series/time_series_covid19_deaths_global.csv')\n",
    "recoveries_df = pd.read_csv('https://raw.githubusercontent.com/CSSEGISandData/COVID-19/master/csse_covid_19_data/csse_covid_19_time_series/time_series_covid19_recovered_global.csv')"
   ]
  },
  {
   "cell_type": "code",
   "execution_count": null,
   "metadata": {},
   "outputs": [],
   "source": [
    "confirmed_df[confirmed_df['Country/Region']=='India'].head()"
   ]
  },
  {
   "cell_type": "code",
   "execution_count": null,
   "metadata": {},
   "outputs": [],
   "source": [
    "deaths_df[deaths_df['Country/Region']=='India'].head()"
   ]
  },
  {
   "cell_type": "code",
   "execution_count": null,
   "metadata": {},
   "outputs": [],
   "source": [
    "recoveries_df[recoveries_df['Country/Region']=='India'].head()"
   ]
  },
  {
   "cell_type": "code",
   "execution_count": null,
   "metadata": {},
   "outputs": [],
   "source": [
    "cols = confirmed_df.keys()\n",
    "confirmed = confirmed_df.loc[:, cols[4]:cols[-6]]\n",
    "deaths = deaths_df.loc[:, cols[4]:cols[-6]]\n",
    "recoveries = recoveries_df.loc[:, cols[4]:cols[-6]]"
   ]
  },
  {
   "cell_type": "code",
   "execution_count": null,
   "metadata": {},
   "outputs": [],
   "source": [
    "dates = confirmed.keys()\n",
    "total_cases = []\n",
    "total_deaths = [] \n",
    "total_recovered = []\n",
    "total_active = [] \n",
    "\n",
    "mortality_rate = []\n",
    "recovery_rate = []  \n",
    "\n",
    "india_deaths = []\n",
    "india_recov = [] \n",
    "india_cases = [] \n",
    "\n",
    "india_mortality_rate = []\n",
    "india_recovery_rate = []\n",
    "india_discover_rate = []\n",
    "\n",
    "us_deaths = []\n",
    "us_recov = [] \n",
    "us_cases = [] \n",
    "\n",
    "italy_deaths = []\n",
    "italy_recov = [] \n",
    "italy_cases = [] \n",
    "\n",
    "spain_deaths = []\n",
    "spain_recov = [] \n",
    "spain_cases = [] \n",
    "\n",
    "china_deaths = []\n",
    "china_recov = [] \n",
    "china_cases = [] "
   ]
  },
  {
   "cell_type": "code",
   "execution_count": null,
   "metadata": {},
   "outputs": [],
   "source": [
    "dates"
   ]
  },
  {
   "cell_type": "code",
   "execution_count": null,
   "metadata": {},
   "outputs": [],
   "source": [
    "dates[0][0:dates[0].find('/')]"
   ]
  },
  {
   "cell_type": "code",
   "execution_count": null,
   "metadata": {},
   "outputs": [],
   "source": [
    "day = 0\n",
    "for i in dates:\n",
    "    day=day+1\n",
    "    confirmed_sum = confirmed[i].sum()\n",
    "    death_sum = deaths[i].sum()\n",
    "    recovered_sum = recoveries[i].sum()\n",
    "    \n",
    "    # confirmed, deaths, recovered, and active\n",
    "    total_cases.append(confirmed_sum)\n",
    "    total_deaths.append(death_sum)\n",
    "    total_recovered.append(recovered_sum)\n",
    "    total_active.append(confirmed_sum-death_sum-recovered_sum)\n",
    "    \n",
    "    # calculate rates\n",
    "    mortality_rate.append(death_sum/confirmed_sum)\n",
    "    recovery_rate.append(recovered_sum/confirmed_sum)\n",
    "\n",
    "    # case studies \n",
    "    i_deaths = deaths_df[deaths_df['Country/Region']=='India'][i].sum()\n",
    "    i_recov = recoveries_df[recoveries_df['Country/Region']=='India'][i].sum()\n",
    "    i_cases = confirmed_df[confirmed_df['Country/Region']=='India'][i].sum()\n",
    "    i_discovery = (i_cases/day)*100\n",
    "    \n",
    "    us_deaths.append(deaths_df[deaths_df['Country/Region']=='US'][i].sum())\n",
    "    us_recov.append(recoveries_df[recoveries_df['Country/Region']=='US'][i].sum())\n",
    "    us_cases.append(confirmed_df[confirmed_df['Country/Region']=='US'][i].sum())\n",
    "    \n",
    "    italy_deaths.append(deaths_df[deaths_df['Country/Region']=='Italy'][i].sum())\n",
    "    italy_recov.append(recoveries_df[recoveries_df['Country/Region']=='Italy'][i].sum())\n",
    "    italy_cases.append(confirmed_df[confirmed_df['Country/Region']=='Italy'][i].sum())\n",
    "    \n",
    "    spain_deaths.append(deaths_df[deaths_df['Country/Region']=='Spain'][i].sum())\n",
    "    spain_recov.append(recoveries_df[recoveries_df['Country/Region']=='Spain'][i].sum())\n",
    "    spain_cases.append(confirmed_df[confirmed_df['Country/Region']=='Spain'][i].sum())\n",
    "    \n",
    "    china_deaths.append(deaths_df[deaths_df['Country/Region']=='China'][i].sum())\n",
    "    china_recov.append(recoveries_df[recoveries_df['Country/Region']=='China'][i].sum())\n",
    "    china_cases.append(confirmed_df[confirmed_df['Country/Region']=='China'][i].sum())\n",
    "    \n",
    "    i_mortality = (i_deaths/i_cases)*100\n",
    "    if i_recov == 0 and i_cases == 0:\n",
    "        i_recovery = 100\n",
    "    else:\n",
    "        i_recovery = (i_recov/i_cases)*100\n",
    "    india_cases.append(i_cases)\n",
    "    india_deaths.append(i_deaths)\n",
    "    india_recov.append(i_recov)\n",
    "    india_mortality_rate.append(i_mortality)\n",
    "    india_recovery_rate.append(i_recovery)\n",
    "    india_discover_rate.append(i_discovery)"
   ]
  },
  {
   "cell_type": "code",
   "execution_count": null,
   "metadata": {},
   "outputs": [],
   "source": [
    "d = total_deaths[-1]\n",
    "r = total_recovered[-1]\n",
    "c = total_cases[-1]\n",
    "t = d+r+c\n",
    "print(d/t,r/t,c/t)"
   ]
  },
  {
   "cell_type": "code",
   "execution_count": null,
   "metadata": {},
   "outputs": [],
   "source": [
    "temp = []\n",
    "for i in range(len(total_cases)):\n",
    "    temp.append(i+1)"
   ]
  },
  {
   "cell_type": "code",
   "execution_count": null,
   "metadata": {},
   "outputs": [],
   "source": [
    "plt.figure(figsize=(10, 3))\n",
    "plt.bar(temp, total_cases, color = 'blue',width=1)\n",
    "plt.plot(temp, total_cases, color='blue')\n",
    "plt.bar(temp, total_recovered, color='green', width=1)\n",
    "plt.plot(temp, total_recovered, color = 'green')\n",
    "plt.bar(temp, total_deaths, color='red',width=1)\n",
    "plt.plot(temp, total_deaths, color='red')\n",
    "plt.axes().set_facecolor('white')\n",
    "plt.grid(True)\n",
    "plt.legend(['World cases','World recovered cases','World deaths'])\n",
    "plt.savefig('plot.png', bbox_inches='tight', dpi=400, facecolor='white')"
   ]
  },
  {
   "cell_type": "code",
   "execution_count": null,
   "metadata": {},
   "outputs": [],
   "source": [
    "india_cases = np.array(india_cases).reshape(-1, 1)\n",
    "india_deaths = np.array(india_deaths).reshape(-1, 1)\n",
    "india_recov = np.array(india_recov).reshape(-1, 1)\n",
    "mortality_rate = np.array(mortality_rate).reshape(-1, 1)\n",
    "recovery_rate = np.array(recovery_rate).reshape(-1, 1)\n",
    "india_mortality_rate = np.array(india_mortality_rate).reshape(-1, 1)\n",
    "india_recovery_rate = np.array(india_recovery_rate).reshape(-1, 1)\n",
    "india_discover_rate = np.array(india_discover_rate).reshape(-1, 1)"
   ]
  },
  {
   "cell_type": "code",
   "execution_count": null,
   "metadata": {
    "scrolled": true
   },
   "outputs": [],
   "source": [
    "fig = plt.figure(figsize=(18,10))\n",
    "fig.subplots_adjust(hspace=0.2, wspace=0.2)\n",
    "ax = fig.add_subplot(2, 1, 1)\n",
    "ax.plot(temp, india_cases, '-', label='India cases',linewidth=2, markersize=5, color='red')\n",
    "ax.plot(india_recov, '-', label='India recovered',linewidth=2, markersize=5, color='green')\n",
    "ax.plot(india_deaths, '-', label='India deaths',linewidth=2, markersize=5, color='blue')\n",
    "ax.tick_params(axis ='x', rotation =90, width =50)\n",
    "ax.legend()\n",
    "\n",
    "ax2 = fig.add_subplot(2, 1, 2)\n",
    "ax2.plot(temp,india_recovery_rate/100, '-', label='India recovery rate',linewidth=2, markersize=5, color='cyan')\n",
    "ax2.plot(india_mortality_rate/100, '-', label='India death rate',linewidth=2, markersize=5, color='yellow')\n",
    "ax2.plot(india_discover_rate/100, '-', label='India death rate',linewidth=2, markersize=5, color='brown')\n",
    "ax2.tick_params(axis ='x', rotation =90, width =50)\n",
    "ax2.legend()"
   ]
  },
  {
   "cell_type": "code",
   "execution_count": null,
   "metadata": {},
   "outputs": [],
   "source": [
    "def daily_increase(data):\n",
    "    d = [] \n",
    "    for i in range(len(data)):\n",
    "        if i == 0:\n",
    "            d.append(data[0])\n",
    "        else:\n",
    "            d.append(data[i]-data[i-1])\n",
    "    return d "
   ]
  },
  {
   "cell_type": "code",
   "execution_count": null,
   "metadata": {},
   "outputs": [],
   "source": [
    "total_cases_increase = daily_increase(total_cases)\n",
    "total_deaths_increase = daily_increase(total_deaths)\n",
    "total_recovered_increase = daily_increase(total_recovered)"
   ]
  },
  {
   "cell_type": "code",
   "execution_count": null,
   "metadata": {},
   "outputs": [],
   "source": [
    "india_daily_increase = daily_increase(india_cases)\n",
    "india_deaths_increase = daily_increase(india_deaths)\n",
    "india_recov_increase = daily_increase(india_recov)"
   ]
  },
  {
   "cell_type": "code",
   "execution_count": null,
   "metadata": {},
   "outputs": [],
   "source": [
    "days_in_future = 10\n",
    "future_forcast = np.array([i for i in range(len(dates)+days_in_future)]).reshape(-1, 1)\n",
    "adjusted_dates = future_forcast[:-days_in_future]"
   ]
  },
  {
   "cell_type": "code",
   "execution_count": null,
   "metadata": {},
   "outputs": [],
   "source": [
    "start = '1/22/2020'\n",
    "start_date = datetime.datetime.strptime(start, '%m/%d/%Y')\n",
    "future_forcast_dates = []\n",
    "for i in range(len(future_forcast)):\n",
    "    future_forcast_dates.append((start_date + datetime.timedelta(days=i)).strftime('%m/%d/%Y'))"
   ]
  },
  {
   "cell_type": "code",
   "execution_count": null,
   "metadata": {},
   "outputs": [],
   "source": [
    "for i in future_forcast_dates:\n",
    "    print(i,end=',')"
   ]
  },
  {
   "cell_type": "code",
   "execution_count": null,
   "metadata": {},
   "outputs": [],
   "source": [
    "x_train = adjusted_dates\n",
    "y_train = total_cases\n",
    "offset = y_train[-1]"
   ]
  },
  {
   "cell_type": "code",
   "execution_count": null,
   "metadata": {},
   "outputs": [],
   "source": [
    "svm_confirmed_world = SVR(shrinking=True, kernel='poly',gamma=0.01, epsilon=1,degree=6, C=0.1)\n",
    "svm_confirmed_world.fit(x_train, y_train)\n",
    "svm_pred = svm_confirmed_world.predict(future_forcast)"
   ]
  },
  {
   "cell_type": "code",
   "execution_count": null,
   "metadata": {},
   "outputs": [],
   "source": [
    "#svm_test_pred = svm_confirmed.predict(X_test_confirmed)\n",
    "plt.plot(y_train)\n",
    "plt.plot(future_forcast[:-days_in_future-1],svm_pred[:-days_in_future-1],'--', color='red')\n",
    "plt.plot(future_forcast[-days_in_future-1:],svm_pred[-days_in_future-1:], color='red')\n",
    "#plt.legend(['Original', 'SVR Predictions'])\n",
    "#print('MAE:', mean_absolute_error(svm_test_pred, y_test_confirmed))\n",
    "plt.axes().set_facecolor('white')\n",
    "print('MSE:',mean_squared_error(svm_pred[:-days_in_future],np.array(y_train)))"
   ]
  },
  {
   "cell_type": "code",
   "execution_count": null,
   "metadata": {},
   "outputs": [],
   "source": [
    "svm_pred[-1]"
   ]
  },
  {
   "cell_type": "code",
   "execution_count": null,
   "metadata": {},
   "outputs": [],
   "source": [
    "x_train = adjusted_dates\n",
    "y_train = total_deaths"
   ]
  },
  {
   "cell_type": "code",
   "execution_count": null,
   "metadata": {},
   "outputs": [],
   "source": [
    "svm_deaths_world = SVR(shrinking=True, kernel='poly',gamma=0.01, epsilon=1,degree=6, C=0.1)\n",
    "svm_deaths_world.fit(x_train, y_train)\n",
    "svm_pred = svm_deaths_world.predict(future_forcast)"
   ]
  },
  {
   "cell_type": "code",
   "execution_count": null,
   "metadata": {},
   "outputs": [],
   "source": [
    "#svm_test_pred = svm_confirmed.predict(X_test_confirmed)\n",
    "plt.plot(y_train)\n",
    "plt.plot(future_forcast[:-days_in_future-1],svm_pred[:-days_in_future-1],'--', color='red')\n",
    "plt.plot(future_forcast[-days_in_future-1:],svm_pred[-days_in_future-1:], color='red')\n",
    "#plt.legend(['Original', 'SVR Predictions'])\n",
    "#print('MAE:', mean_absolute_error(svm_test_pred, y_test_confirmed))\n",
    "plt.axes().set_facecolor('white')\n",
    "print('MSE:',mean_squared_error(svm_pred[:-days_in_future],np.array(y_train)))"
   ]
  },
  {
   "cell_type": "code",
   "execution_count": null,
   "metadata": {},
   "outputs": [],
   "source": [
    "svm_pred[-1]"
   ]
  },
  {
   "cell_type": "code",
   "execution_count": null,
   "metadata": {},
   "outputs": [],
   "source": [
    "x_train = adjusted_dates\n",
    "y_train = total_recovered\n",
    "svm_recov_world = SVR(shrinking=True, kernel='poly',gamma=0.01, epsilon=1,degree=6, C=0.1)\n",
    "svm_recov_world.fit(x_train, y_train)\n",
    "svm_pred = svm_recov_world.predict(future_forcast)\n",
    "#svm_test_pred = svm_confirmed.predict(X_test_confirmed)\n",
    "plt.plot(y_train)\n",
    "plt.plot(future_forcast[:-days_in_future-1],svm_pred[:-days_in_future-1],'--', color='red')\n",
    "plt.plot(future_forcast[-days_in_future-1:],svm_pred[-days_in_future-1:], color='red')\n",
    "#plt.legend(['Original', 'SVR Predictions'])\n",
    "plt.axes().set_facecolor('white')\n",
    "#print('MAE:', mean_absolute_error(svm_test_pred, y_test_confirmed))\n",
    "print('MSE:',mean_squared_error(svm_pred[:-days_in_future],np.array(y_train)))"
   ]
  },
  {
   "cell_type": "code",
   "execution_count": null,
   "metadata": {},
   "outputs": [],
   "source": [
    "svm_pred[-1]"
   ]
  },
  {
   "cell_type": "code",
   "execution_count": null,
   "metadata": {},
   "outputs": [],
   "source": [
    "from keras.callbacks import ModelCheckpoint, EarlyStopping\n",
    "from keras.models import Sequential\n",
    "from keras.layers import Dense, Activation, Flatten"
   ]
  },
  {
   "cell_type": "code",
   "execution_count": null,
   "metadata": {},
   "outputs": [],
   "source": [
    "x_train = adjusted_dates\n",
    "y_train = np.array(total_cases)\n",
    "offet = y_train[-1]"
   ]
  },
  {
   "cell_type": "code",
   "execution_count": null,
   "metadata": {},
   "outputs": [],
   "source": [
    "NN_model = Sequential()\n",
    "\n",
    "# The Input Layer :\n",
    "NN_model.add(Dense(128, kernel_initializer='normal',input_dim = x_train.shape[1], activation='relu'))\n",
    "\n",
    "# The Hidden Layers :\n",
    "NN_model.add(Dense(256, kernel_initializer='normal',activation='relu'))\n",
    "NN_model.add(Dense(256, kernel_initializer='normal',activation='relu'))\n",
    "NN_model.add(Dense(256, kernel_initializer='normal',activation='relu'))\n",
    "# The Output Layer :\n",
    "NN_model.add(Dense(1, kernel_initializer='normal',activation='relu'))\n",
    "\n",
    "# Compile the network :\n",
    "NN_model.compile(loss='mean_squared_error', optimizer='adam', metrics=['mean_absolute_error'])\n",
    "NN_model.summary()"
   ]
  },
  {
   "cell_type": "code",
   "execution_count": null,
   "metadata": {},
   "outputs": [],
   "source": [
    "earlystopper = EarlyStopping(patience=200, verbose=1)\n",
    "checkpointer = ModelCheckpoint('model-unet-inception-15.h5', verbose=1, save_best_only=True)\n",
    "NN_model.fit(x_train, y_train, epochs=2000, batch_size=32, validation_split = 0.2, callbacks=[earlystopper, checkpointer])"
   ]
  },
  {
   "cell_type": "code",
   "execution_count": null,
   "metadata": {},
   "outputs": [],
   "source": [
    "predictions = NN_model.predict(future_forcast)\n",
    "predictions[-1]"
   ]
  },
  {
   "cell_type": "code",
   "execution_count": null,
   "metadata": {},
   "outputs": [],
   "source": [
    "plt.plot(y_train)\n",
    "plt.plot(future_forcast[:-days_in_future-1],predictions[:-days_in_future-1],'--', color='red')\n",
    "plt.plot(future_forcast[-days_in_future-1:],predictions[-days_in_future-1:], color='red')\n",
    "#plt.legend(['Original', 'DNN Predictions'])\n",
    "plt.axes().set_facecolor('white')\n",
    "#print('MAE:', mean_absolute_error(svm_test_pred, y_test_confirmed))\n",
    "print('MSE:',mean_squared_error(predictions[:-days_in_future],np.array(y_train)))"
   ]
  },
  {
   "cell_type": "code",
   "execution_count": null,
   "metadata": {},
   "outputs": [],
   "source": [
    "x_train = adjusted_dates\n",
    "y_train = np.array(total_deaths)\n",
    "NN_model2 = Sequential()\n",
    "\n",
    "# The Input Layer :\n",
    "NN_model2.add(Dense(128, kernel_initializer='normal',input_dim = x_train.shape[1], activation='relu'))\n",
    "\n",
    "# The Hidden Layers :\n",
    "NN_model2.add(Dense(256, kernel_initializer='normal',activation='relu'))\n",
    "NN_model2.add(Dense(256, kernel_initializer='normal',activation='relu'))\n",
    "NN_model2.add(Dense(256, kernel_initializer='normal',activation='relu'))\n",
    "# The Output Layer :\n",
    "NN_model2.add(Dense(1, kernel_initializer='normal',activation='linear'))\n",
    "\n",
    "# Compile the network :\n",
    "NN_model2.compile(loss='mean_squared_error', optimizer='adam', metrics=['mean_absolute_error'])\n",
    "NN_model2.summary()\n",
    "earlystopper = EarlyStopping(patience=200, verbose=1)\n",
    "checkpointer = ModelCheckpoint('model-unet-inception-15.h5', verbose=1, save_best_only=True)\n",
    "NN_model2.fit(x_train, y_train, epochs=2000, batch_size=32, validation_split = 0.2, callbacks=[earlystopper, checkpointer])\n",
    "predictions = NN_model2.predict(future_forcast)\n",
    "print(predictions[-1])\n",
    "plt.plot(y_train)\n",
    "plt.plot(future_forcast[:-days_in_future-1],predictions[:-days_in_future-1],'--', color='red')\n",
    "plt.plot(future_forcast[-days_in_future-1:],predictions[-days_in_future-1:], color='red')\n",
    "#plt.legend(['Original', 'DNN Predictions'])\n",
    "plt.axes().set_facecolor('white')\n",
    "#print('MAE:', mean_absolute_error(svm_test_pred, y_test_confirmed))\n",
    "print('MSE:',mean_squared_error(predictions[:-days_in_future],np.array(y_train)))"
   ]
  },
  {
   "cell_type": "code",
   "execution_count": null,
   "metadata": {},
   "outputs": [],
   "source": [
    "x_train = adjusted_dates\n",
    "y_train = np.array(total_recovered)\n",
    "NN_model3 = Sequential()\n",
    "\n",
    "# The Input Layer :\n",
    "NN_model3.add(Dense(128, kernel_initializer='normal',input_dim = x_train.shape[1], activation='relu'))\n",
    "\n",
    "# The Hidden Layers :\n",
    "NN_model3.add(Dense(256, kernel_initializer='normal',activation='relu'))\n",
    "NN_model3.add(Dense(256, kernel_initializer='normal',activation='relu'))\n",
    "NN_model3.add(Dense(256, kernel_initializer='normal',activation='relu'))\n",
    "# The Output Layer :\n",
    "NN_model3.add(Dense(1, kernel_initializer='normal',activation='linear'))\n",
    "\n",
    "# Compile the network :\n",
    "NN_model3.compile(loss='mean_squared_error', optimizer='adam', metrics=['mean_absolute_error'])\n",
    "NN_model3.summary()\n",
    "earlystopper = EarlyStopping(patience=200, verbose=1)\n",
    "checkpointer = ModelCheckpoint('model-unet-inception-15.h5', verbose=1, save_best_only=True)\n",
    "NN_model3.fit(x_train, y_train, epochs=2000, batch_size=32, validation_split = 0.2, callbacks=[earlystopper, checkpointer])\n",
    "predictions = NN_model3.predict(future_forcast)\n",
    "print(predictions[-1])\n",
    "plt.plot(y_train)\n",
    "plt.plot(future_forcast[:-days_in_future-1],predictions[:-days_in_future-1],'--', color='red')\n",
    "plt.plot(future_forcast[-days_in_future-1:],predictions[-days_in_future-1:], color='red')\n",
    "#plt.legend(['Original', 'DNN Predictions'])\n",
    "plt.axes().set_facecolor('white')\n",
    "#print('MAE:', mean_absolute_error(svm_test_pred, y_test_confirmed))\n",
    "print('MSE:',mean_squared_error(predictions[:-days_in_future],np.array(y_train)))"
   ]
  },
  {
   "cell_type": "code",
   "execution_count": null,
   "metadata": {},
   "outputs": [],
   "source": [
    "x_train = adjusted_dates\n",
    "y_train = np.array(total_cases)"
   ]
  },
  {
   "cell_type": "code",
   "execution_count": null,
   "metadata": {},
   "outputs": [],
   "source": [
    "# transform our data for polynomial regression\n",
    "poly = PolynomialFeatures(degree=6)\n",
    "poly_X_train_confirmed = poly.fit_transform(x_train)\n",
    "poly_future_forcast = poly.fit_transform(future_forcast)"
   ]
  },
  {
   "cell_type": "code",
   "execution_count": null,
   "metadata": {},
   "outputs": [],
   "source": [
    "linear_model = LinearRegression(normalize=True, fit_intercept=False)\n",
    "linear_model.fit(poly_X_train_confirmed, y_train)"
   ]
  },
  {
   "cell_type": "code",
   "execution_count": null,
   "metadata": {},
   "outputs": [],
   "source": [
    "test_linear_pred = linear_model.predict(poly_future_forcast)\n",
    "test_linear_pred[-1]"
   ]
  },
  {
   "cell_type": "code",
   "execution_count": null,
   "metadata": {},
   "outputs": [],
   "source": [
    "plt.plot(y_train)\n",
    "plt.plot(future_forcast[:-days_in_future-1],test_linear_pred[:-days_in_future-1],'--', color='red')\n",
    "plt.plot(future_forcast[-days_in_future-1:],test_linear_pred[-days_in_future-1:], color='red')\n",
    "#plt.legend(['Original', 'PR Predictions'])\n",
    "#print('MAE:', mean_absolute_error(svm_test_pred, y_test_confirmed))\n",
    "plt.axes().set_facecolor('white')\n",
    "print('MSE:',mean_squared_error(test_linear_pred[:-days_in_future],np.array(y_train)))"
   ]
  },
  {
   "cell_type": "code",
   "execution_count": null,
   "metadata": {},
   "outputs": [],
   "source": [
    "x_train = adjusted_dates\n",
    "y_train = np.array(total_deaths)\n",
    "poly = PolynomialFeatures(degree=6)\n",
    "poly_X_train_confirmed = poly.fit_transform(x_train)\n",
    "poly_future_forcast = poly.fit_transform(future_forcast)\n",
    "linear_model = LinearRegression(normalize=True, fit_intercept=False)\n",
    "linear_model.fit(poly_X_train_confirmed, y_train)\n",
    "test_linear_pred = linear_model.predict(poly_future_forcast)\n",
    "print(test_linear_pred[-1])\n",
    "plt.plot(y_train)\n",
    "plt.plot(future_forcast[:-days_in_future-1],test_linear_pred[:-days_in_future-1],'--', color='red')\n",
    "plt.plot(future_forcast[-days_in_future-1:],test_linear_pred[-days_in_future-1:], color='red')\n",
    "#plt.legend(['Original', 'PR Predictions'])\n",
    "plt.axes().set_facecolor('white')\n",
    "#print('MAE:', mean_absolute_error(svm_test_pred, y_test_confirmed))\n",
    "print('MSE:',mean_squared_error(test_linear_pred[:-days_in_future],np.array(y_train)))"
   ]
  },
  {
   "cell_type": "code",
   "execution_count": null,
   "metadata": {},
   "outputs": [],
   "source": [
    "x_train = adjusted_dates\n",
    "y_train = np.array(total_recovered)\n",
    "poly = PolynomialFeatures(degree=6)\n",
    "poly_X_train_confirmed = poly.fit_transform(x_train)\n",
    "poly_future_forcast = poly.fit_transform(future_forcast)\n",
    "linear_model = LinearRegression(normalize=True, fit_intercept=False)\n",
    "linear_model.fit(poly_X_train_confirmed, y_train)\n",
    "test_linear_pred = linear_model.predict(poly_future_forcast)\n",
    "print(test_linear_pred[-1])\n",
    "plt.plot(y_train)\n",
    "plt.plot(future_forcast[:-days_in_future-1],test_linear_pred[:-days_in_future-1],'--', color='red')\n",
    "plt.plot(future_forcast[-days_in_future-1:],test_linear_pred[-days_in_future-1:], color='red')\n",
    "#plt.legend(['Original', 'PR Predictions'])\n",
    "plt.axes().set_facecolor('white')\n",
    "#print('MAE:', mean_absolute_error(svm_test_pred, y_test_confirmed))\n",
    "print('MSE:',mean_squared_error(test_linear_pred[:-days_in_future],np.array(y_train)))"
   ]
  },
  {
   "cell_type": "code",
   "execution_count": null,
   "metadata": {},
   "outputs": [],
   "source": [
    "from keras.layers import Dense\n",
    "from keras.layers import LSTM, Dropout"
   ]
  },
  {
   "cell_type": "code",
   "execution_count": null,
   "metadata": {},
   "outputs": [],
   "source": [
    "x_train = adjusted_dates\n",
    "y_train = np.array(total_cases)\n",
    "offset=y_train[-1]"
   ]
  },
  {
   "cell_type": "code",
   "execution_count": null,
   "metadata": {},
   "outputs": [],
   "source": [
    "y_train = (MinMaxScaler().fit_transform(np.array(y_train).reshape(-1,1))).reshape(-1,1)"
   ]
  },
  {
   "cell_type": "code",
   "execution_count": null,
   "metadata": {},
   "outputs": [],
   "source": [
    "model = Sequential()\n",
    "model.add(LSTM(256, return_sequences=False, input_shape=(1,1)))\n",
    "model.add(Dropout(0.1))\n",
    "model.add(Dense(1))\n",
    "model.compile(loss='mse', optimizer='adam')\n",
    "#model.fit(trainX, trainY, epochs=1000, batch_size=240, verbose=1)"
   ]
  },
  {
   "cell_type": "code",
   "execution_count": null,
   "metadata": {},
   "outputs": [],
   "source": [
    "model.summary()"
   ]
  },
  {
   "cell_type": "code",
   "execution_count": null,
   "metadata": {},
   "outputs": [],
   "source": [
    "X_train = np.reshape(x_train, (x_train.shape[0], x_train.shape[1],1))\n",
    "X_test = np.reshape(y_train, (y_train.shape[0], 1))\n",
    "predict = np.reshape(future_forcast, (future_forcast.shape[0], future_forcast.shape[1],1))"
   ]
  },
  {
   "cell_type": "code",
   "execution_count": null,
   "metadata": {},
   "outputs": [],
   "source": [
    "earlystopper = EarlyStopping(patience=200, verbose=1)\n",
    "model.fit(X_train, X_test, epochs=5000, batch_size=64, verbose=1, callbacks=[earlystopper])"
   ]
  },
  {
   "cell_type": "code",
   "execution_count": null,
   "metadata": {},
   "outputs": [],
   "source": [
    "test_linear_pred = model.predict(predict)"
   ]
  },
  {
   "cell_type": "code",
   "execution_count": null,
   "metadata": {},
   "outputs": [],
   "source": [
    "y_train=y_train*offset\n",
    "test_linear_pred = test_linear_pred * offset\n",
    "#test_linear_pred[-days_in_future-1:] = test_linear_pred[-days_in_future-1:] * 2"
   ]
  },
  {
   "cell_type": "code",
   "execution_count": null,
   "metadata": {},
   "outputs": [],
   "source": [
    "plt.plot(y_train)\n",
    "plt.plot(future_forcast[:-days_in_future-1],test_linear_pred[:-days_in_future-1],'--', color='red')\n",
    "plt.plot(future_forcast[-days_in_future-1:],test_linear_pred[-days_in_future-1:], color='red')\n",
    "#plt.legend(['Original', 'LSTM Predictions'])\n",
    "plt.axes().set_facecolor('white')\n",
    "#print('MAE:', mean_absolute_error(svm_test_pred, y_test_confirmed))\n",
    "print('MSE:',mean_squared_error(test_linear_pred[:-days_in_future],np.array(y_train)))"
   ]
  },
  {
   "cell_type": "code",
   "execution_count": null,
   "metadata": {},
   "outputs": [],
   "source": [
    "test_linear_pred[-1]"
   ]
  },
  {
   "cell_type": "code",
   "execution_count": null,
   "metadata": {},
   "outputs": [],
   "source": [
    "x_train = adjusted_dates\n",
    "y_train = np.array(total_deaths)\n",
    "offset = y_train[-1]\n",
    "y_train = (MinMaxScaler().fit_transform(np.array(y_train).reshape(-1,1))).reshape(-1,1)\n",
    "model2 = Sequential()\n",
    "model2.add(LSTM(256, return_sequences=False, input_shape=(1,1)))\n",
    "model2.add(Dropout(0.1))\n",
    "model2.add(Dense(1))\n",
    "model2.compile(loss='mse', optimizer='adam')\n",
    "model2.summary()\n",
    "X_train = np.reshape(x_train, (x_train.shape[0], x_train.shape[1],1))\n",
    "X_test = np.reshape(y_train, (y_train.shape[0], 1))\n",
    "predict = np.reshape(future_forcast, (future_forcast.shape[0], future_forcast.shape[1],1))\n",
    "model2.fit(X_train, X_test, epochs=5000, batch_size=64, verbose=1)"
   ]
  },
  {
   "cell_type": "code",
   "execution_count": null,
   "metadata": {},
   "outputs": [],
   "source": [
    "test_linear_pred = model2.predict(predict)\n",
    "y_train=y_train*offset\n",
    "test_linear_pred = test_linear_pred * offset\n",
    "plt.plot(y_train)\n",
    "plt.plot(future_forcast[:-days_in_future-1],test_linear_pred[:-days_in_future-1],'--', color='red')\n",
    "plt.plot(future_forcast[-days_in_future-1:],test_linear_pred[-days_in_future-1:], color='red')\n",
    "#plt.legend(['Original', 'LSTM Predictions'])\n",
    "plt.axes().set_facecolor('white')\n",
    "#print('MAE:', mean_absolute_error(svm_test_pred, y_test_confirmed))\n",
    "print('MSE:',mean_squared_error(test_linear_pred[:-days_in_future],np.array(y_train)))"
   ]
  },
  {
   "cell_type": "code",
   "execution_count": null,
   "metadata": {},
   "outputs": [],
   "source": [
    "test_linear_pred[-1]"
   ]
  },
  {
   "cell_type": "code",
   "execution_count": null,
   "metadata": {},
   "outputs": [],
   "source": [
    "x_train = adjusted_dates\n",
    "y_train = np.array(total_recovered)\n",
    "offset = y_train[-1]\n",
    "y_train = (MinMaxScaler().fit_transform(np.array(y_train).reshape(-1,1))).reshape(-1,1)\n",
    "model3 = Sequential()\n",
    "model3.add(LSTM(256, return_sequences=False, input_shape=(1,1)))\n",
    "model3.add(Dropout(0.1))\n",
    "model3.add(Dense(1))\n",
    "model3.compile(loss='mse', optimizer='adam')\n",
    "model3.summary()\n",
    "X_train = np.reshape(x_train, (x_train.shape[0], x_train.shape[1],1))\n",
    "X_test = np.reshape(y_train, (y_train.shape[0], 1))\n",
    "predict = np.reshape(future_forcast, (future_forcast.shape[0], future_forcast.shape[1],1))\n",
    "model3.fit(X_train, X_test, epochs=10000, batch_size=64, verbose=1)"
   ]
  },
  {
   "cell_type": "code",
   "execution_count": null,
   "metadata": {},
   "outputs": [],
   "source": [
    "test_linear_pred = model3.predict(predict)\n",
    "y_train=y_train*offset\n",
    "test_linear_pred = test_linear_pred * offset\n",
    "plt.plot(y_train)\n",
    "plt.plot(future_forcast[:-days_in_future-1],test_linear_pred[:-days_in_future-1],'--', color='red')\n",
    "plt.plot(future_forcast[-days_in_future-1:],test_linear_pred[-days_in_future-1:], color='red')\n",
    "#plt.legend(['Original', 'LSTM Predictions'])\n",
    "plt.axes().set_facecolor('white')\n",
    "#print('MAE:', mean_absolute_error(svm_test_pred, y_test_confirmed))\n",
    "print('MSE:',mean_squared_error(test_linear_pred[:-days_in_future],np.array(y_train)))"
   ]
  },
  {
   "cell_type": "code",
   "execution_count": null,
   "metadata": {},
   "outputs": [],
   "source": [
    "test_linear_pred[-1]"
   ]
  },
  {
   "cell_type": "code",
   "execution_count": null,
   "metadata": {},
   "outputs": [],
   "source": []
  }
 ],
 "metadata": {
  "kernelspec": {
   "display_name": "Python 3",
   "language": "python",
   "name": "python3"
  },
  "language_info": {
   "codemirror_mode": {
    "name": "ipython",
    "version": 3
   },
   "file_extension": ".py",
   "mimetype": "text/x-python",
   "name": "python",
   "nbconvert_exporter": "python",
   "pygments_lexer": "ipython3",
   "version": "3.6.12"
  }
 },
 "nbformat": 4,
 "nbformat_minor": 2
}
